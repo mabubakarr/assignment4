{
 "cells": [
  {
   "cell_type": "markdown",
   "id": "561cb141",
   "metadata": {},
   "source": [
    "# Advance Regular Expression assignment"
   ]
  },
  {
   "cell_type": "code",
   "execution_count": null,
   "id": "c24761df",
   "metadata": {},
   "outputs": [],
   "source": [
    "Assignment 1: Extracting Phone Numbers\n",
    "\n",
    "Raw Text:\n",
    "Extract all valid Pakistani phone numbers from a given text.\n",
    "\n",
    "Example:\n",
    "Text: Please contact me at 0301-1234567 or 042-35678901 for further details."
   ]
  },
  {
   "cell_type": "code",
   "execution_count": 1,
   "id": "e18c2fcf",
   "metadata": {},
   "outputs": [
    {
     "data": {
      "text/plain": [
       "['0301-1234567']"
      ]
     },
     "execution_count": 1,
     "metadata": {},
     "output_type": "execute_result"
    }
   ],
   "source": [
    "import re\n",
    "text = \"\"\"\n",
    "Please contact me at 0301-1234567 or 042-35678901 for further details.\n",
    "\"\"\"\n",
    "pattern = r\"\\d{4}-\\d{7}\"\n",
    "a = re.findall(pattern, text)\n",
    "a"
   ]
  },
  {
   "cell_type": "code",
   "execution_count": null,
   "id": "18690a7e",
   "metadata": {},
   "outputs": [],
   "source": [
    "Assignment 2: Validating Email Addresses\n",
    "\n",
    "Raw Text:\n",
    "Validate email addresses according to Pakistani domain extensions (.pk).\n",
    "\n",
    "Example:\n",
    "Text: Contact us at info@example.com or support@domain.pk for assistance.\n"
   ]
  },
  {
   "cell_type": "code",
   "execution_count": 12,
   "id": "5011d422",
   "metadata": {},
   "outputs": [
    {
     "data": {
      "text/plain": [
       "['support@domain.pk']"
      ]
     },
     "execution_count": 12,
     "metadata": {},
     "output_type": "execute_result"
    }
   ],
   "source": [
    "import re\n",
    "text = \"\"\"\n",
    "Contact us at info@example.com or support@domain.pk for assistance\n",
    "\"\"\"\n",
    "pattern = r\"\\b([\\w\\-\\.]+@[\\w]+\\.pk)\\b\"\n",
    "\n",
    "a = re.findall(pattern, text, re.MULTILINE)\n",
    "a"
   ]
  },
  {
   "cell_type": "code",
   "execution_count": null,
   "id": "861d1074",
   "metadata": {},
   "outputs": [],
   "source": [
    "Assignment 3: Extracting CNIC Numbers\n",
    "\n",
    "Raw Text:\n",
    "Extract all Pakistani CNIC (Computerized National Identity Card) numbers from a given text.\n",
    "\n",
    "Example:\n",
    "Text: My CNIC is 12345-6789012-3 and another one is 34567-8901234-5."
   ]
  },
  {
   "cell_type": "code",
   "execution_count": 2,
   "id": "21dc743f",
   "metadata": {},
   "outputs": [
    {
     "data": {
      "text/plain": [
       "['12345-6789012-3', '34567-8901234-5']"
      ]
     },
     "execution_count": 2,
     "metadata": {},
     "output_type": "execute_result"
    }
   ],
   "source": [
    "text = \"\"\"\n",
    "My CNIC is 12345-6789012-3 and another one is 34567-8901234-5.\n",
    "\"\"\"\n",
    "pattern = r\"\\d{5}[-]\\d{7}[-]\\d\"\n",
    "a = re.findall(pattern, text)\n",
    "a"
   ]
  },
  {
   "cell_type": "code",
   "execution_count": null,
   "id": "6b05228d",
   "metadata": {},
   "outputs": [],
   "source": [
    "Assignment 4: Identifying Urdu Words\n",
    "\n",
    "Raw Text:\n",
    "Identify and extract Urdu words from a mixed English-Urdu text.\n",
    "\n",
    "Example:\n",
    "Text: یہ sentence میں کچھ English words بھی ہیں۔"
   ]
  },
  {
   "cell_type": "code",
   "execution_count": 13,
   "id": "89fdf29a",
   "metadata": {},
   "outputs": [
    {
     "data": {
      "text/plain": [
       "['یہ', 'میں', 'کچھ', 'بھی', 'ہیں']"
      ]
     },
     "execution_count": 13,
     "metadata": {},
     "output_type": "execute_result"
    }
   ],
   "source": [
    "text = \"\"\"\n",
    " یہ sentence میں کچھ English words بھی ہیں۔\n",
    "\"\"\"\n",
    "pattern = r\"\\b([^\\s\\-a-zA-Z]+\\b)\"\n",
    "\n",
    "a = re.findall(pattern, text, re.MULTILINE)\n",
    "a"
   ]
  },
  {
   "cell_type": "code",
   "execution_count": null,
   "id": "0b3ff4fb",
   "metadata": {},
   "outputs": [],
   "source": [
    "Assignment 5: Finding Dates\n",
    "\n",
    "Raw Text:\n",
    "Find and extract dates in the format DD-MM-YYYY from a given text.\n",
    "\n",
    "Example:\n",
    "Text: The event will take place on 15-08-2023 and 23-09-2023."
   ]
  },
  {
   "cell_type": "code",
   "execution_count": 4,
   "id": "ecd0960d",
   "metadata": {},
   "outputs": [
    {
     "data": {
      "text/plain": [
       "['15-08-2023', '23-09-2023']"
      ]
     },
     "execution_count": 4,
     "metadata": {},
     "output_type": "execute_result"
    }
   ],
   "source": [
    "text = \"\"\"\n",
    "The event will take place on 15-08-2023 and 23-09-2023.\n",
    "\"\"\"\n",
    "pattern = r\"\\d{2}[-]\\d{2}[-]\\d{4}\"\n",
    "a = re.findall(pattern, text)\n",
    "a"
   ]
  },
  {
   "cell_type": "code",
   "execution_count": null,
   "id": "f642b2fc",
   "metadata": {},
   "outputs": [],
   "source": [
    "Assignment 6: Extracting URLs\n",
    "\n",
    "Raw Text: \n",
    "Extract all URLs from a text that belong to Pakistani domains.\n",
    "\n",
    "Example:\n",
    "Text: Visit http://www.example.pk or https://website.com.pk for more information."
   ]
  },
  {
   "cell_type": "code",
   "execution_count": 9,
   "id": "3e28472b",
   "metadata": {},
   "outputs": [
    {
     "data": {
      "text/plain": [
       "['http://www.example.pk', 'https://website.com.pk']"
      ]
     },
     "execution_count": 9,
     "metadata": {},
     "output_type": "execute_result"
    }
   ],
   "source": [
    "import re\n",
    "text = \"\"\"\n",
    "Visit http://www.example.pk or https://website.com.pk for more information.\n",
    "\"\"\"\n",
    "pattern = r\"\\b([https://]+[\\w]+\\.[\\w]+.pk)\\b\"\n",
    "a = re.findall(pattern, text, re.MULTILINE)\n",
    "a"
   ]
  },
  {
   "cell_type": "code",
   "execution_count": null,
   "id": "ccf4346e",
   "metadata": {},
   "outputs": [],
   "source": [
    "Assignment 7: Analyzing Currency\n",
    "\n",
    "Raw Text:\n",
    "Extract and analyze currency amounts in Pakistani Rupees (PKR) from a given text.\n",
    "\n",
    "Example:\n",
    "Text: The product costs PKR 1500, while the deluxe version is priced at Rs. 2500."
   ]
  },
  {
   "cell_type": "code",
   "execution_count": 5,
   "id": "82fb9a5e",
   "metadata": {},
   "outputs": [
    {
     "data": {
      "text/plain": [
       "['1500', '2500']"
      ]
     },
     "execution_count": 5,
     "metadata": {},
     "output_type": "execute_result"
    }
   ],
   "source": [
    "text = \"\"\"\n",
    "The product costs PKR 1500, while the deluxe version is priced at Rs. 2500.\n",
    "\"\"\"\n",
    "pattern = r\"[0-9]+\"\n",
    "a = re.findall(pattern, text)\n",
    "a"
   ]
  },
  {
   "cell_type": "code",
   "execution_count": null,
   "id": "a4dc69bd",
   "metadata": {},
   "outputs": [],
   "source": [
    "Assignment 8: Removing Punctuation\n",
    "\n",
    "Raw Text:\n",
    "Remove all punctuation marks from a text while preserving Urdu characters.\n",
    "\n",
    "Example:\n",
    "Text: کیا! آپ, یہاں؟"
   ]
  },
  {
   "cell_type": "code",
   "execution_count": 8,
   "id": "78fb3e1a",
   "metadata": {},
   "outputs": [
    {
     "data": {
      "text/plain": [
       "['کیا', 'آپ', 'یہاں']"
      ]
     },
     "execution_count": 8,
     "metadata": {},
     "output_type": "execute_result"
    }
   ],
   "source": [
    "import re\n",
    "text = \"\"\"\n",
    "کیا! آپ, یہاں؟\n",
    "\"\"\"\n",
    "pattern = r\"[^\\W]+\"\n",
    "a = re.findall(pattern, text, re.MULTILINE)\n",
    "a"
   ]
  },
  {
   "cell_type": "code",
   "execution_count": null,
   "id": "2cb0fba2",
   "metadata": {},
   "outputs": [],
   "source": [
    "Assignment 9: Extracting City Names\n",
    "\n",
    "Raw Text:\n",
    "Extract names of Pakistani cities from a given text.\n",
    "\n",
    "Example:\n",
    "Text: Lahore, Karachi, Islamabad, and Peshawar are major cities of Pakistan."
   ]
  },
  {
   "cell_type": "code",
   "execution_count": 15,
   "id": "a6ba8700",
   "metadata": {},
   "outputs": [
    {
     "data": {
      "text/plain": [
       "[('Lahore', 'Karachi', 'Islamabad', 'Peshawar')]"
      ]
     },
     "execution_count": 15,
     "metadata": {},
     "output_type": "execute_result"
    }
   ],
   "source": [
    "text = \"\"\"\n",
    "Lahore, Karachi, Islamabad, and Peshawar are major cities of Pakistan.\n",
    "\"\"\"\n",
    "pattern = r\"(?:([\\w]+)\\,\\s([\\w]+)\\,\\s([\\w]+)\\,\\sand\\s([\\w]+))\"\n",
    "\n",
    "a = re.findall(pattern, text, re.MULTILINE)\n",
    "a"
   ]
  },
  {
   "cell_type": "code",
   "execution_count": null,
   "id": "ee096e0c",
   "metadata": {},
   "outputs": [],
   "source": [
    "Assignment 10: Analyzing Vehicle Numbers\n",
    "\n",
    "Raw Text:\n",
    "Identify and extract Pakistani vehicle registration numbers (e.g., ABC-123) from a text.\n",
    "\n",
    "Example:\n",
    "Text: I saw a car with the number plate LEA-567 near the market."
   ]
  },
  {
   "cell_type": "code",
   "execution_count": 12,
   "id": "2dd25040",
   "metadata": {},
   "outputs": [
    {
     "data": {
      "text/plain": [
       "['LEA-567']"
      ]
     },
     "execution_count": 12,
     "metadata": {},
     "output_type": "execute_result"
    }
   ],
   "source": [
    "text = \"\"\"\n",
    "I saw a car with the number plate LEA-567 near the market.\n",
    "\"\"\"\n",
    "pattern = r\"\\w{3}[-]\\d{3}\"\n",
    "a = re.findall(pattern, text)\n",
    "a"
   ]
  }
 ],
 "metadata": {
  "kernelspec": {
   "display_name": "Python 3 (ipykernel)",
   "language": "python",
   "name": "python3"
  },
  "language_info": {
   "codemirror_mode": {
    "name": "ipython",
    "version": 3
   },
   "file_extension": ".py",
   "mimetype": "text/x-python",
   "name": "python",
   "nbconvert_exporter": "python",
   "pygments_lexer": "ipython3",
   "version": "3.11.3"
  }
 },
 "nbformat": 4,
 "nbformat_minor": 5
}
